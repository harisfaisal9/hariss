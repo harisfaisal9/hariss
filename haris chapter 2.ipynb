{
 "cells": [
  {
   "cell_type": "code",
   "execution_count": null,
   "metadata": {},
   "outputs": [],
   "source": [
    "# 2.11\n",
    "#a\n",
    "x = (-7)+(-6)+(-5)+(-4)+(-3)+(-2)+(-1)\n",
    "print(x)\n"
   ]
  },
  {
   "cell_type": "code",
   "execution_count": 6,
   "metadata": {},
   "outputs": [
    {
     "name": "stdout",
     "output_type": "stream",
     "text": [
      "SUM OF NEGATIVE INTEGER THROUGH -7 TO -1 IS :  -28\n"
     ]
    }
   ],
   "source": []
  },
  {
   "cell_type": "code",
   "execution_count": 8,
   "metadata": {},
   "outputs": [
    {
     "name": "stdout",
     "output_type": "stream",
     "text": [
      "702.0588235294117\n"
     ]
    }
   ],
   "source": [
    "#b\n",
    "x = 17*9 + 24*10 + 11*21 + 27*12/17+21+11+27\n",
    "print(x)"
   ]
  },
  {
   "cell_type": "code",
   "execution_count": 16,
   "metadata": {},
   "outputs": [
    {
     "name": "stdout",
     "output_type": "stream",
     "text": [
      "400\n"
     ]
    }
   ],
   "source": [
    "#c\n",
    "x = (-20)**2\n",
    "print(x)"
   ]
  },
  {
   "cell_type": "code",
   "execution_count": 18,
   "metadata": {},
   "outputs": [
    {
     "name": "stdout",
     "output_type": "stream",
     "text": [
      "71\n"
     ]
    }
   ],
   "source": [
    "#d\n",
    "x = 4356//61\n",
    "print(x)"
   ]
  },
  {
   "cell_type": "code",
   "execution_count": 19,
   "metadata": {},
   "outputs": [
    {
     "name": "stdout",
     "output_type": "stream",
     "text": [
      "34\n"
     ]
    }
   ],
   "source": [
    "#e\n",
    "x = 4365%61\n",
    "print(x)"
   ]
  },
  {
   "cell_type": "code",
   "execution_count": 31,
   "metadata": {},
   "outputs": [
    {
     "name": "stdout",
     "output_type": "stream",
     "text": [
      "-+\n",
      "-+-\n",
      "+--\n",
      "+--+--\n",
      "+--+--+--+--+--+--+--+--+--+--+--\n",
      "+-+++--+-+++--+-+++--+-+++--+-+++--\n"
     ]
    }
   ],
   "source": [
    "#2.12\n",
    "s1 = '-'\n",
    "s2 = '+'\n",
    "#a\n",
    "a = s1+s2\n",
    "print(x)\n",
    "#b\n",
    "b = s1+s2+s1\n",
    "print(b)\n",
    "#c\n",
    "c = s2+s1+s1\n",
    "print(c)\n",
    "#d\n",
    "d = (s2+s1+s1)*2\n",
    "print(d)\n",
    "#e\n",
    "e = (s2+s1+s1)*11\n",
    "print(e)\n",
    "#f\n",
    "f = (s2+s1+s2*3+s1*2)*5\n",
    "print(f)\n"
   ]
  },
  {
   "cell_type": "code",
   "execution_count": 32,
   "metadata": {},
   "outputs": [
    {
     "name": "stdout",
     "output_type": "stream",
     "text": [
      "a\n",
      "c\n",
      "z\n",
      "y\n",
      "q\n"
     ]
    }
   ],
   "source": [
    "#2.13\n",
    "s = 'abcdefghijklmnopqrstuvwxyz'\n",
    "#a\n",
    "a = s[0]\n",
    "print(a)\n",
    "#b\n",
    "b = s[2]\n",
    "print(b)\n",
    "#c\n",
    "c = s[-1]\n",
    "print(c)\n",
    "#d\n",
    "d = s[-2]\n",
    "print(d)\n",
    "#e\n",
    "e = s[-10]\n",
    "print(e)\n"
   ]
  },
  {
   "cell_type": "code",
   "execution_count": 57,
   "metadata": {},
   "outputs": [
    {
     "name": "stdout",
     "output_type": "stream",
     "text": [
      "True\n",
      "False\n",
      "False\n",
      "True\n",
      "False\n",
      "False\n"
     ]
    }
   ],
   "source": [
    "#2.14\n",
    "s = 'goodbye'\n",
    "#a\n",
    "a = s[0] == 'g'\n",
    "print(a)\n",
    "#b\n",
    "# \"there is no 7th character\"\n",
    "#c\n",
    "c = s[0] == 'g' and s[1] == 'a'\n",
    "print(c)\n",
    "#d\n",
    "d = s[-2] == 'x'\n",
    "print(d)\n",
    "#e\n",
    "e = s[int(len(s)/2)] == 'd'\n",
    "print(e)\n",
    "#f\n",
    "f = s[0] == s[-1]\n",
    "print(f)\n",
    "#g\n",
    "g = s[2:5] =='tion'\n",
    "print(g)\n"
   ]
  },
  {
   "cell_type": "code",
   "execution_count": 58,
   "metadata": {},
   "outputs": [
    {
     "name": "stdout",
     "output_type": "stream",
     "text": [
      "1\n"
     ]
    }
   ],
   "source": [
    "#2.15\n",
    "#a\n",
    "a =  \"anachronistically\"\n",
    "b = \"counterintuitive\"\n",
    "x = len(a) - len(b)\n",
    "print(x)"
   ]
  },
  {
   "cell_type": "code",
   "execution_count": 69,
   "metadata": {},
   "outputs": [
    {
     "name": "stdout",
     "output_type": "stream",
     "text": [
      "True\n"
     ]
    }
   ],
   "source": [
    "#b\n",
    "x = 'misitrepretation'<'misrepresentation'\n",
    "print(x)"
   ]
  },
  {
   "cell_type": "code",
   "execution_count": 75,
   "metadata": {},
   "outputs": [
    {
     "name": "stdout",
     "output_type": "stream",
     "text": [
      "false\n"
     ]
    }
   ],
   "source": [
    "#c\n",
    "if 'e' in 'floccinaucinihilipilification':\n",
    "    print(\"true\")\n",
    "else:\n",
    "    print(\"false\")\n"
   ]
  },
  {
   "cell_type": "code",
   "execution_count": null,
   "metadata": {},
   "outputs": [],
   "source": [
    "#2.16\n",
    "#a\n",
    "a = 6\n",
    "b = 7"
   ]
  },
  {
   "cell_type": "code",
   "execution_count": null,
   "metadata": {},
   "outputs": [],
   "source": [
    "#b\n",
    "c = a+b/2"
   ]
  },
  {
   "cell_type": "code",
   "execution_count": null,
   "metadata": {},
   "outputs": [],
   "source": [
    "#c\n",
    "inventory = ['paper', 'staples','pencils']"
   ]
  },
  {
   "cell_type": "code",
   "execution_count": 80,
   "metadata": {},
   "outputs": [
    {
     "name": "stdout",
     "output_type": "stream",
     "text": [
      "JohnFitzgeraldKennedy\n"
     ]
    }
   ],
   "source": [
    "#d\n",
    "first = 'John'\n",
    "middle = 'Fitzgerald'\n",
    "last = 'Kennedy'\n",
    "#e\n",
    "fullname = first + middle +last\n",
    "print(fullname)"
   ]
  },
  {
   "cell_type": "code",
   "execution_count": 81,
   "metadata": {},
   "outputs": [
    {
     "name": "stdout",
     "output_type": "stream",
     "text": [
      "True\n"
     ]
    }
   ],
   "source": [
    "#2.17\n",
    "#a\n",
    "x = 17+(-9)<10\n",
    "print(x)"
   ]
  },
  {
   "cell_type": "code",
   "execution_count": 89,
   "metadata": {},
   "outputs": [
    {
     "name": "stdout",
     "output_type": "stream",
     "text": [
      "False\n",
      "True\n"
     ]
    }
   ],
   "source": [
    "#b\n",
    "inventory = ['paper', 'staples','pencils']\n",
    "first = 'John'\n",
    "middle = 'Fitzgerald'\n",
    "last = 'Kennedy'\n",
    "fullname = first + middle +last\n",
    "x = str(len(inventory)) > fullname*5\n",
    "print(x)\n",
    "#c\n",
    "a = 6\n",
    "b = 7\n",
    "c = a+b/2\n",
    "y = c < 24\n",
    "print(y)"
   ]
  },
  {
   "cell_type": "code",
   "execution_count": 92,
   "metadata": {},
   "outputs": [
    {
     "data": {
      "text/plain": [
       "True"
      ]
     },
     "execution_count": 92,
     "metadata": {},
     "output_type": "execute_result"
    }
   ],
   "source": [
    "#d\n",
    "a = 6\n",
    "b = 7\n",
    "x = a+b\n",
    "6.75 < x"
   ]
  },
  {
   "cell_type": "code",
   "execution_count": 94,
   "metadata": {},
   "outputs": [
    {
     "name": "stdout",
     "output_type": "stream",
     "text": [
      "True\n",
      "False\n"
     ]
    }
   ],
   "source": [
    "#e\n",
    "a = 'middle'\n",
    "b = 'first'\n",
    "c = 'last'\n",
    "x  = a > b\n",
    "print(x)\n",
    "y = a < c\n",
    "print(y)"
   ]
  },
  {
   "cell_type": "code",
   "execution_count": 105,
   "metadata": {},
   "outputs": [
    {
     "name": "stdout",
     "output_type": "stream",
     "text": [
      "False\n",
      "['rose', 'bougainvillea', 'yucca']\n"
     ]
    },
    {
     "data": {
      "text/plain": [
       "'lilly of the valley'"
      ]
     },
     "execution_count": 105,
     "metadata": {},
     "output_type": "execute_result"
    }
   ],
   "source": [
    "#2.18\n",
    "#a\n",
    "flowers = ['rose', 'bougainvillea','yucca','marigold','daylilly','lilly of the valley']\n",
    "#b\n",
    "a = 'potato' in flowers\n",
    "print(a)\n",
    "#c\n",
    "thorny = flowers[:3]\n",
    "print(thorny)\n",
    "#d\n",
    "poisonous = flowers[-1]\n",
    "poisonous"
   ]
  },
  {
   "cell_type": "code",
   "execution_count": 119,
   "metadata": {},
   "outputs": [
    {
     "name": "stdout",
     "output_type": "stream",
     "text": [
      "5\n",
      "6\n",
      "45.45454545454545\n",
      "['N', 'N', 'N', 'N', 'N', 'N', 'Y', 'Y', 'Y', 'Y', 'Y']\n"
     ]
    }
   ],
   "source": [
    "#2.19\n",
    "answers = ['Y', 'N', 'N', 'Y', 'N', 'Y', 'Y', 'Y', 'N', 'N', 'N']\n",
    "#a\n",
    "numYes = answers.count('Y')\n",
    "print(numYes)\n",
    "#b\n",
    "numNo = answers.count('N')\n",
    "print(numNo)\n",
    "#c\n",
    "percentyes = (numYes/(len(answers)))*100\n",
    "print(percentyes)\n",
    "#d\n",
    "answers.sort()\n",
    "print(answers)"
   ]
  },
  {
   "cell_type": "code",
   "execution_count": 120,
   "metadata": {},
   "outputs": [
    {
     "name": "stdout",
     "output_type": "stream",
     "text": [
      "ENTER LENGTH : 23\n",
      "ENTER ANGLE IN DEGREE : 3\n",
      "1.2038829290198074 m\n"
     ]
    }
   ],
   "source": [
    "#2.27\n",
    "from math import sin \n",
    "length = eval(input(\"ENTER LENGTH : \"))\n",
    "angle = eval(input(\"ENTER ANGLE IN DEGREE : \"))\n",
    "rad = (3.142*angle)/180\n",
    "height = length *sin(rad)\n",
    "print(height,\"m\")"
   ]
  },
  {
   "cell_type": "code",
   "execution_count": null,
   "metadata": {},
   "outputs": [],
   "source": []
  },
  {
   "cell_type": "code",
   "execution_count": null,
   "metadata": {},
   "outputs": [],
   "source": []
  }
 ],
 "metadata": {
  "kernelspec": {
   "display_name": "Python 3",
   "language": "python",
   "name": "python3"
  },
  "language_info": {
   "codemirror_mode": {
    "name": "ipython",
    "version": 3
   },
   "file_extension": ".py",
   "mimetype": "text/x-python",
   "name": "python",
   "nbconvert_exporter": "python",
   "pygments_lexer": "ipython3",
   "version": "3.7.3"
  }
 },
 "nbformat": 4,
 "nbformat_minor": 2
}
